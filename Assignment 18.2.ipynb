{
 "cells": [
  {
   "cell_type": "code",
   "execution_count": 1,
   "metadata": {},
   "outputs": [
    {
     "name": "stdout",
     "output_type": "stream",
     "text": [
      "Mean of the difference in sample proportions =  0.05\n",
      "Standard deviation of the difference =  0.0706\n",
      "z_score =  -0.7080\n",
      "Using normal distribution table, we find that the probability of a z-score being -0.7080 or less is: 0.24\n"
     ]
    }
   ],
   "source": [
    "'''\n",
    "\n",
    "Problem Statement 1:\n",
    "\n",
    "In one state, 52% of the voters are Republicans, and 48% are Democrats. In a second state, 47% of the voters are Republicans, \n",
    "and 53% are Democrats. Suppose a simple random sample of 100 voters are surveyed from each state. What is the probability that \n",
    "the survey will show a greater percentage of Republican voters in the second state than in the first state?\n",
    "\n",
    "'''\n",
    "\n",
    "### SOLUTION ### \n",
    "\n",
    "import math\n",
    "\n",
    "'''\n",
    "PR1 = Republican voters in the first state, \n",
    "PR2 = Republican voters in the second state, \n",
    "PR1_sample = Republican voters in the sample from the first state\n",
    "PR2_sample = Republican voters in the sample from the second state. \n",
    "\n",
    "The number of voters sampled from the first state (n1) = 100\n",
    "The number of voters sampled from the second state (n2) = 100.\n",
    "\n",
    "'''\n",
    "\n",
    "PR1 = 0.52\n",
    "PR2 = 0.47\n",
    "n1 = 100\n",
    "n2 = 100\n",
    "\n",
    "## Find the mean of the difference in sample proportions:\n",
    "## μ(PR1_sample - PR2_sample) = PR1 - PR2 \n",
    "\n",
    "μ = PR1 - PR2\n",
    "\n",
    "print(\"Mean of the difference in sample proportions = \", format(μ, '.2f'))\n",
    "\n",
    "## Find the standard deviation of the difference:\n",
    "## σd = sqrt{ [ PR1 * (1 - PR1) / n1 ] + [ PR2 * (1 - PR2) / n2 ] }\n",
    "\n",
    "σd = math.sqrt(((PR1 * (1 - PR1)) / n1) + ((PR2 * (1 - PR2)) / n2))\n",
    "\n",
    "print(\"Standard deviation of the difference = \", format(σd, '.4f'))\n",
    "\n",
    "## Find the probability. This problem requires us to find the probability that PR1_sample is less than PR2_sample. \n",
    "## This is equivalent to finding the probability that (PR1_sample - PR2_sample) is less than zero. \n",
    "## To find this probability, we need to transform the random variable (PR1_sample - PR2_sample) into a z-score. \n",
    "\n",
    "## z(PR1_sample - PR2_sample) = (x - μ(PR1_sample - PR2_sample)) / σd \n",
    "\n",
    "z_score = (0 - μ) / σd\n",
    "\n",
    "print(\"z_score = \", format(z_score, '.4f'))\n",
    "\n",
    "print(\"Using normal distribution table, we find that the probability of a z-score being -0.7080 or less is: 0.24\")"
   ]
  },
  {
   "cell_type": "code",
   "execution_count": null,
   "metadata": {
    "collapsed": true
   },
   "outputs": [],
   "source": []
  }
 ],
 "metadata": {
  "kernelspec": {
   "display_name": "Python 3",
   "language": "python",
   "name": "python3"
  },
  "language_info": {
   "codemirror_mode": {
    "name": "ipython",
    "version": 3
   },
   "file_extension": ".py",
   "mimetype": "text/x-python",
   "name": "python",
   "nbconvert_exporter": "python",
   "pygments_lexer": "ipython3",
   "version": "3.6.3"
  }
 },
 "nbformat": 4,
 "nbformat_minor": 2
}
